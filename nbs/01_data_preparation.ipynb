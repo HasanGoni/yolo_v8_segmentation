{
 "cells": [
  {
   "cell_type": "code",
   "execution_count": 7,
   "metadata": {},
   "outputs": [],
   "source": [
    "#| default_exp data_preparation"
   ]
  },
  {
   "cell_type": "code",
   "execution_count": 41,
   "metadata": {},
   "outputs": [],
   "source": [
    "#| export\n",
    "from pathlib import Path\n",
    "from fastcore.all import *\n",
    "import cv2\n",
    "import numpy as np\n",
    "from typing import List, Tuple, Union, Callable, Optional, Dict\n",
    "from tqdm.auto import tqdm\n",
    "import matplotlib.pyplot as plt \n",
    "import json"
   ]
  },
  {
   "cell_type": "markdown",
   "metadata": {},
   "source": [
    "# first find the data"
   ]
  },
  {
   "cell_type": "markdown",
   "metadata": {},
   "source": [
    "code highly taken from [here](https://github.com/bnsreenu/python_for_microscopists/blob/master/332%20-%20All%20about%20image%20annotations%E2%80%8B/binary_to_coco_V3.0.py)"
   ]
  },
  {
   "cell_type": "code",
   "execution_count": 40,
   "metadata": {},
   "outputs": [
    {
     "data": {
      "text/plain": [
       "((#1642) [Path('/home/hasan/Schreibtisch/projects/data/microscopy/patch_train_masks/img_162_p_9.png'),Path('/home/hasan/Schreibtisch/projects/data/microscopy/patch_train_masks/img_11_p_9.png'),Path('/home/hasan/Schreibtisch/projects/data/microscopy/patch_train_masks/img_70_p_5.png'),Path('/home/hasan/Schreibtisch/projects/data/microscopy/patch_train_masks/img_67_p_1.png'),Path('/home/hasan/Schreibtisch/projects/data/microscopy/patch_train_masks/img_74_p_9.png'),Path('/home/hasan/Schreibtisch/projects/data/microscopy/patch_train_masks/img_16_p_5.png'),Path('/home/hasan/Schreibtisch/projects/data/microscopy/patch_train_masks/img_23_p_1.png'),Path('/home/hasan/Schreibtisch/projects/data/microscopy/patch_train_masks/img_112_p_6.png'),Path('/home/hasan/Schreibtisch/projects/data/microscopy/patch_train_masks/img_121_p_11.png'),Path('/home/hasan/Schreibtisch/projects/data/microscopy/patch_train_masks/img_152_p_1.png')...],\n",
       " (#1642) [Path('/home/hasan/Schreibtisch/projects/data/microscopy/patch_train_images/img_162_p_9.png'),Path('/home/hasan/Schreibtisch/projects/data/microscopy/patch_train_images/img_11_p_9.png'),Path('/home/hasan/Schreibtisch/projects/data/microscopy/patch_train_images/img_70_p_5.png'),Path('/home/hasan/Schreibtisch/projects/data/microscopy/patch_train_images/img_67_p_1.png'),Path('/home/hasan/Schreibtisch/projects/data/microscopy/patch_train_images/img_74_p_9.png'),Path('/home/hasan/Schreibtisch/projects/data/microscopy/patch_train_images/img_16_p_5.png'),Path('/home/hasan/Schreibtisch/projects/data/microscopy/patch_train_images/img_23_p_1.png'),Path('/home/hasan/Schreibtisch/projects/data/microscopy/patch_train_images/img_112_p_6.png'),Path('/home/hasan/Schreibtisch/projects/data/microscopy/patch_train_images/img_121_p_11.png'),Path('/home/hasan/Schreibtisch/projects/data/microscopy/patch_train_images/img_152_p_1.png')...])"
      ]
     },
     "execution_count": 40,
     "metadata": {},
     "output_type": "execute_result"
    }
   ],
   "source": [
    "trn_msk_path = Path(r'/home/hasan/Schreibtisch/projects/data/microscopy/patch_train_masks')\n",
    "trn_img_path = Path(r'/home/hasan/Schreibtisch/projects/data/microscopy/patch_train_images/')\n",
    "\n",
    "val_msk_path = Path(r'/home/hasan/Schreibtisch/projects/data/microscopy/patch_train_masks')\n",
    "val_img_path = Path(r'/home/hasan/Schreibtisch/projects/data/microscopy/patch_train_images/')\n",
    "\n",
    "trn_json_path = Path(r'/home/hasan/Schreibtisch/projects/data/microscopy/patch_mask_train_coco_format.json')\n",
    "val_json_path = Path(r'/home/hasan/Schreibtisch/projects/data/microscopy/patch_mask_val_coco_format.json')\n",
    "trn_msk_path.ls(), trn_img_path.ls()\n"
   ]
  },
  {
   "cell_type": "markdown",
   "metadata": {},
   "source": [
    "# We need to create a format which can yolov8 works"
   ]
  },
  {
   "cell_type": "markdown",
   "metadata": {},
   "source": [
    " ### 1. First convert coco format"
   ]
  },
  {
   "cell_type": "code",
   "execution_count": 11,
   "metadata": {},
   "outputs": [],
   "source": [
    "#| export\n",
    "def get_contours(img:np.ndarray):\n",
    "    'get contours from masks'\n",
    "\n",
    "    _, thresh = cv2.threshold(img, 0, 255, cv2.THRESH_BINARY + cv2.THRESH_OTSU)\n",
    "    return cv2.findContours(thresh, cv2.RETR_TREE, cv2.CHAIN_APPROX_SIMPLE)[0]\n"
   ]
  },
  {
   "cell_type": "code",
   "execution_count": 30,
   "metadata": {},
   "outputs": [],
   "source": [
    "#| export\n",
    "def from_contr_to_annotation(\n",
    "                            sn_cntr:list, # single contour\n",
    "                            consider_min_area:bool=True,# whether to use min_area parameter\n",
    "                            min_area:int=0,\n",
    "                            )->Tuple:\n",
    "    'Create annotation dict from  a single contour'\n",
    "    bbox = cv2.boundingRect(sn_cntr)\n",
    "    area = cv2.contourArea(sn_cntr)\n",
    "    segmentation = sn_cntr.flatten().tolist()\n",
    "    if consider_min_area:\n",
    "        if area > min_area:\n",
    "            return bbox, area, segmentation\n",
    "        return None, None, None\n",
    "    else:\n",
    "        return bbox, area, segmentation\n",
    "\n"
   ]
  },
  {
   "cell_type": "code",
   "execution_count": 42,
   "metadata": {},
   "outputs": [],
   "source": [
    "#| export\n",
    "def get_mask_info(\n",
    "        msk_path, \n",
    "        min_area=0,\n",
    "        )->Tuple:\n",
    "    all_masks = msk_path.ls()\n",
    "\n",
    "    image_infos = []\n",
    "    annotations = []\n",
    "    annotation_id=0\n",
    "    for idx, msk_fn in tqdm(enumerate(all_masks),total=len(all_masks)):\n",
    "        image_id = idx +1\n",
    "        file_name = msk_fn.name\n",
    "\n",
    "        mask = cv2.imread(str(msk_fn), cv2.IMREAD_GRAYSCALE)\n",
    "        height, width = mask.shape\n",
    "\n",
    "        if file_name not in map(itemgetter('file_name'), image_infos):  \n",
    "            image_info = {\n",
    "                'id': image_id,\n",
    "                'width': width,\n",
    "                'height': height,\n",
    "                'file_name': file_name}\n",
    "            image_infos.append(image_info)\n",
    "        else:\n",
    "            image_info = list(filter(lambda x: x['file_name'] == file_name, image_infos))[0]\n",
    "        \n",
    "        cntrs = get_contours(mask)\n",
    "        for cntr in cntrs:\n",
    "            bbox, area, segmentation = from_contr_to_annotation(cntr, min_area=min_area)\n",
    "            if bbox:\n",
    "                annotation = {\n",
    "                    'image_id': image_id,\n",
    "                    'id': annotation_id,\n",
    "                    'category_id': 1,\n",
    "                    'iscrowd': 0,\n",
    "                    'area': area,\n",
    "                    'bbox': bbox,\n",
    "                    'segmentation': [segmentation]\n",
    "                }\n",
    "                annotations.append(annotation)\n",
    "                annotation_id +=1\n",
    "    return image_infos, annotations, annotation_id\n",
    "\n",
    "\n",
    "        \n",
    "\n",
    "        \n",
    "\n"
   ]
  },
  {
   "cell_type": "code",
   "execution_count": 43,
   "metadata": {},
   "outputs": [
    {
     "data": {
      "application/vnd.jupyter.widget-view+json": {
       "model_id": "619a79c072024487a7a0c86b3f158d85",
       "version_major": 2,
       "version_minor": 0
      },
      "text/plain": [
       "  0%|          | 0/1642 [00:00<?, ?it/s]"
      ]
     },
     "metadata": {},
     "output_type": "display_data"
    }
   ],
   "source": [
    "image_infos, annotations, annotation_id=get_mask_info(trn_msk_path, min_area=0)"
   ]
  },
  {
   "cell_type": "code",
   "execution_count": 33,
   "metadata": {},
   "outputs": [],
   "source": [
    "category_ids = {\n",
    "    \"object\": 1,\n",
    "}"
   ]
  },
  {
   "cell_type": "code",
   "execution_count": 38,
   "metadata": {},
   "outputs": [],
   "source": [
    "#| export\n",
    "def process_masks(\n",
    "        mask_path:Union[str, Path],\n",
    "        json_path:Union[str, Path],\n",
    "        category_ids:Dict,\n",
    "        ):\n",
    "    coco_format = {\n",
    "        \"info\": {},\n",
    "        \"licenses\": [],\n",
    "        \"images\":[],\n",
    "        \"categories\": [{\"id\":v, \"name\":k, \"supercategory\":k } for k, v in category_ids.items()],\n",
    "        \"annotations\":[]\n",
    "\n",
    "    }\n",
    "\n",
    "    coco_format['images'], coco_format['annotations'], ann_cnt = get_mask_info(mask_path)\n",
    "    with open(json_path, 'w') as f:\n",
    "        json.dump(coco_format, f, sort_keys=True, indent=4)"
   ]
  },
  {
   "cell_type": "markdown",
   "metadata": {},
   "source": [
    "#### Creating coco format json file for training set"
   ]
  },
  {
   "cell_type": "code",
   "execution_count": 44,
   "metadata": {},
   "outputs": [
    {
     "data": {
      "application/vnd.jupyter.widget-view+json": {
       "model_id": "5cb5f180743144b0a9cf59b4f66a3872",
       "version_major": 2,
       "version_minor": 0
      },
      "text/plain": [
       "  0%|          | 0/1642 [00:00<?, ?it/s]"
      ]
     },
     "metadata": {},
     "output_type": "display_data"
    }
   ],
   "source": [
    "process_masks(\n",
    "    mask_path=trn_msk_path, \n",
    "    json_path=trn_json_path, \n",
    "    category_ids=category_ids)"
   ]
  },
  {
   "cell_type": "markdown",
   "metadata": {},
   "source": [
    "#### Creating coco format for validation data"
   ]
  },
  {
   "cell_type": "code",
   "execution_count": null,
   "metadata": {},
   "outputs": [
    {
     "data": {
      "application/vnd.jupyter.widget-view+json": {
       "model_id": "d8284da8b4964bbdbb36585812cfb0e8",
       "version_major": 2,
       "version_minor": 0
      },
      "text/plain": [
       "  0%|          | 0/1642 [00:00<?, ?it/s]"
      ]
     },
     "metadata": {},
     "output_type": "display_data"
    }
   ],
   "source": [
    "process_masks(\n",
    "    mask_path=val_msk_path, \n",
    "    json_path=val_json_path, \n",
    "    category_ids=category_ids)"
   ]
  },
  {
   "cell_type": "markdown",
   "metadata": {},
   "source": [
    "### 2. Now convet to yolo format"
   ]
  },
  {
   "cell_type": "code",
   "execution_count": 47,
   "metadata": {},
   "outputs": [],
   "source": [
    "#| export\n",
    "def read_json(file_path):\n",
    "    with open(file_path, 'r') as f:\n",
    "        data = json.load(f)\n",
    "    return data\n"
   ]
  },
  {
   "cell_type": "code",
   "execution_count": null,
   "metadata": {},
   "outputs": [],
   "source": []
  },
  {
   "cell_type": "code",
   "execution_count": 32,
   "metadata": {},
   "outputs": [],
   "source": [
    "#| hide\n",
    "import nbdev; nbdev.nbdev_export()"
   ]
  },
  {
   "cell_type": "code",
   "execution_count": null,
   "metadata": {},
   "outputs": [],
   "source": []
  }
 ],
 "metadata": {
  "kernelspec": {
   "display_name": "yolo_v8",
   "language": "python",
   "name": "python3"
  },
  "language_info": {
   "codemirror_mode": {
    "name": "ipython",
    "version": 3
   },
   "file_extension": ".py",
   "mimetype": "text/x-python",
   "name": "python",
   "nbconvert_exporter": "python",
   "pygments_lexer": "ipython3",
   "version": "3.10.13"
  }
 },
 "nbformat": 4,
 "nbformat_minor": 2
}
