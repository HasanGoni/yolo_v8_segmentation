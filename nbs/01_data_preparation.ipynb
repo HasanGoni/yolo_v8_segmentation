{
 "cells": [
  {
   "cell_type": "code",
   "execution_count": 31,
   "metadata": {},
   "outputs": [],
   "source": [
    "#| default_exp data_preparation"
   ]
  },
  {
   "cell_type": "code",
   "execution_count": 29,
   "metadata": {},
   "outputs": [],
   "source": [
    "from pathlib import Path\n",
    "from fastcore.all import *\n",
    "import cv2\n",
    "import numpy as np"
   ]
  },
  {
   "cell_type": "markdown",
   "metadata": {},
   "source": [
    "# first find the data"
   ]
  },
  {
   "cell_type": "markdown",
   "metadata": {},
   "source": [
    "code highly taken from [here](https://github.com/bnsreenu/python_for_microscopists/blob/master/332%20-%20All%20about%20image%20annotations%E2%80%8B/binary_to_coco_V3.0.py)"
   ]
  },
  {
   "cell_type": "code",
   "execution_count": 13,
   "metadata": {},
   "outputs": [
    {
     "data": {
      "text/plain": [
       "((#1642) [Path('/home/hasan/Schreibtisch/projects/data/microscopy/patch_train_masks/img_162_p_9.png'),Path('/home/hasan/Schreibtisch/projects/data/microscopy/patch_train_masks/img_11_p_9.png'),Path('/home/hasan/Schreibtisch/projects/data/microscopy/patch_train_masks/img_70_p_5.png'),Path('/home/hasan/Schreibtisch/projects/data/microscopy/patch_train_masks/img_67_p_1.png'),Path('/home/hasan/Schreibtisch/projects/data/microscopy/patch_train_masks/img_74_p_9.png'),Path('/home/hasan/Schreibtisch/projects/data/microscopy/patch_train_masks/img_16_p_5.png'),Path('/home/hasan/Schreibtisch/projects/data/microscopy/patch_train_masks/img_23_p_1.png'),Path('/home/hasan/Schreibtisch/projects/data/microscopy/patch_train_masks/img_112_p_6.png'),Path('/home/hasan/Schreibtisch/projects/data/microscopy/patch_train_masks/img_121_p_11.png'),Path('/home/hasan/Schreibtisch/projects/data/microscopy/patch_train_masks/img_152_p_1.png')...],\n",
       " (#1642) [Path('/home/hasan/Schreibtisch/projects/data/microscopy/patch_train_images/img_162_p_9.png'),Path('/home/hasan/Schreibtisch/projects/data/microscopy/patch_train_images/img_11_p_9.png'),Path('/home/hasan/Schreibtisch/projects/data/microscopy/patch_train_images/img_70_p_5.png'),Path('/home/hasan/Schreibtisch/projects/data/microscopy/patch_train_images/img_67_p_1.png'),Path('/home/hasan/Schreibtisch/projects/data/microscopy/patch_train_images/img_74_p_9.png'),Path('/home/hasan/Schreibtisch/projects/data/microscopy/patch_train_images/img_16_p_5.png'),Path('/home/hasan/Schreibtisch/projects/data/microscopy/patch_train_images/img_23_p_1.png'),Path('/home/hasan/Schreibtisch/projects/data/microscopy/patch_train_images/img_112_p_6.png'),Path('/home/hasan/Schreibtisch/projects/data/microscopy/patch_train_images/img_121_p_11.png'),Path('/home/hasan/Schreibtisch/projects/data/microscopy/patch_train_images/img_152_p_1.png')...])"
      ]
     },
     "execution_count": 13,
     "metadata": {},
     "output_type": "execute_result"
    }
   ],
   "source": [
    "msk_path = Path(r'/home/hasan/Schreibtisch/projects/data/microscopy/patch_train_masks')\n",
    "img_path = Path(r'/home/hasan/Schreibtisch/projects/data/microscopy/patch_train_images/')\n",
    "msk_path.ls(), img_path.ls()\n"
   ]
  },
  {
   "cell_type": "code",
   "execution_count": null,
   "metadata": {},
   "outputs": [],
   "source": [
    "#| export\n",
    "def get_contours(img:np.ndarray):\n",
    "    'get contours from masks'\n",
    "\n",
    "    _, thresh = cv2.threshold(img, 0, 255, cv2.THRESH_BINARY + cv2.THRESH_OTSU)\n",
    "    return cv2.findContours(thresh, cv2.RETR_TREE, cv2.CHAIN_APPROX_SIMPLE)[0]\n"
   ]
  },
  {
   "cell_type": "code",
   "execution_count": 27,
   "metadata": {},
   "outputs": [],
   "source": [
    "def get_mask_info(msk_path):\n",
    "    all_masks = msk_path.ls()\n",
    "\n",
    "    image_infos = []\n",
    "    for idx, msk_fn in enumerate(all_masks):\n",
    "        image_id = idx +1\n",
    "        file_name = msk_fn.name\n",
    "\n",
    "        mask = cv2.imread(str(msk_fn), cv2.IMREAD_GRAYSCALE)\n",
    "        height, width = mask.shape\n",
    "\n",
    "        if file_name not in map(itemgetter('file_name'), image_infos):  \n",
    "            image_info = {\n",
    "                'id': image_id,\n",
    "                'width': width,\n",
    "                'height': height,\n",
    "                'file_name': file_name}\n",
    "            image_infos.append(image_info)\n",
    "        else:\n",
    "            image_info = list(filter(lambda x: x['file_name'] == file_name, image_infos))[0]\n",
    "        \n",
    "        cntrs = get_contours(mask)\n",
    "\n",
    "\n",
    "        \n",
    "    return image_infos\n",
    "\n",
    "        \n",
    "\n"
   ]
  },
  {
   "cell_type": "code",
   "execution_count": 23,
   "metadata": {},
   "outputs": [],
   "source": [
    "all_masks=msk_path.ls()\n",
    "\n",
    "image_infos = []\n",
    "for idx, msk_fn in enumerate(all_masks):\n",
    "    image_id = idx +1\n",
    "    file_name = msk_fn.name\n",
    "\n",
    "    mask = cv2.imread(str(msk_fn), cv2.IMREAD_GRAYSCALE)\n",
    "    height, width = mask.shape\n",
    "\n",
    "    if file_name not in map(itemgetter('file_name'), image_infos):  \n",
    "        image_info = {\n",
    "            'id': image_id,\n",
    "            'width': width,\n",
    "            'height': height,\n",
    "            'file_name': file_name}\n",
    "        image_infos.append(image_info)\n",
    "    els\n",
    "s_mask = cv2.imread(str(all_masks[0]), cv2.IMREAD_GRAYSCALE)\n",
    "height, width = s_mask.shape"
   ]
  },
  {
   "cell_type": "code",
   "execution_count": null,
   "metadata": {},
   "outputs": [],
   "source": []
  },
  {
   "cell_type": "code",
   "execution_count": 32,
   "metadata": {},
   "outputs": [],
   "source": [
    "#| hide\n",
    "import nbdev; nbdev.nbdev_export()"
   ]
  },
  {
   "cell_type": "code",
   "execution_count": null,
   "metadata": {},
   "outputs": [],
   "source": []
  }
 ],
 "metadata": {
  "kernelspec": {
   "display_name": "yolo_v8",
   "language": "python",
   "name": "python3"
  },
  "language_info": {
   "codemirror_mode": {
    "name": "ipython",
    "version": 3
   },
   "file_extension": ".py",
   "mimetype": "text/x-python",
   "name": "python",
   "nbconvert_exporter": "python",
   "pygments_lexer": "ipython3",
   "version": "3.10.13"
  }
 },
 "nbformat": 4,
 "nbformat_minor": 2
}
